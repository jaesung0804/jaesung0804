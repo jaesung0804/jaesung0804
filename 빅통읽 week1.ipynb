{
  "nbformat": 4,
  "nbformat_minor": 0,
  "metadata": {
    "colab": {
      "name": "week1.ipynb",
      "provenance": [],
      "collapsed_sections": [],
      "include_colab_link": true
    },
    "kernelspec": {
      "name": "python3",
      "display_name": "Python 3"
    },
    "language_info": {
      "name": "python"
    }
  },
  "cells": [
    {
      "cell_type": "markdown",
      "metadata": {
        "id": "view-in-github",
        "colab_type": "text"
      },
      "source": [
        "<a href=\"https://colab.research.google.com/github/jaesung0804/jaesung0804/blob/main/%EB%B9%85%ED%86%B5%EC%9D%BD%20week1.ipynb\" target=\"_parent\"><img src=\"https://colab.research.google.com/assets/colab-badge.svg\" alt=\"Open In Colab\"/></a>"
      ]
    },
    {
      "cell_type": "markdown",
      "source": [
        "# Ridge regression model\n",
        "\n",
        "$L(\\beta) = \\sum_{i=1}^n (y_i- x_i^\\top \\beta)^2 + \\alpha \\|\\beta\\|^2$"
      ],
      "metadata": {
        "id": "p-vSg_O4lbRx"
      }
    },
    {
      "cell_type": "code",
      "execution_count": null,
      "metadata": {
        "id": "GLMlv-6tk-jM"
      },
      "outputs": [],
      "source": [
        "#%% Ridge regression\n",
        "# import module\n",
        "import numpy as np\n",
        "import pandas as pd\n",
        "import matplotlib.pyplot as plt\n",
        "\n",
        "\n",
        "from matplotlib import pyplot\n",
        "from sklearn.linear_model import Ridge\n",
        "from sklearn.datasets import load_boston\n",
        "from sklearn.model_selection import train_test_split"
      ]
    },
    {
      "cell_type": "code",
      "source": [
        "# data load & split\n",
        "# load dataset\n",
        "boston = load_boston()\n",
        "data = boston.data\n",
        "print(boston.DESCR) #get a description of the dataset"
      ],
      "metadata": {
        "colab": {
          "base_uri": "https://localhost:8080/"
        },
        "id": "Db58CoU9miQv",
        "outputId": "616e6297-e760-4012-fe3c-3374fce7e11a"
      },
      "execution_count": null,
      "outputs": [
        {
          "output_type": "stream",
          "name": "stdout",
          "text": [
            ".. _boston_dataset:\n",
            "\n",
            "Boston house prices dataset\n",
            "---------------------------\n",
            "\n",
            "**Data Set Characteristics:**  \n",
            "\n",
            "    :Number of Instances: 506 \n",
            "\n",
            "    :Number of Attributes: 13 numeric/categorical predictive. Median Value (attribute 14) is usually the target.\n",
            "\n",
            "    :Attribute Information (in order):\n",
            "        - CRIM     per capita crime rate by town\n",
            "        - ZN       proportion of residential land zoned for lots over 25,000 sq.ft.\n",
            "        - INDUS    proportion of non-retail business acres per town\n",
            "        - CHAS     Charles River dummy variable (= 1 if tract bounds river; 0 otherwise)\n",
            "        - NOX      nitric oxides concentration (parts per 10 million)\n",
            "        - RM       average number of rooms per dwelling\n",
            "        - AGE      proportion of owner-occupied units built prior to 1940\n",
            "        - DIS      weighted distances to five Boston employment centres\n",
            "        - RAD      index of accessibility to radial highways\n",
            "        - TAX      full-value property-tax rate per $10,000\n",
            "        - PTRATIO  pupil-teacher ratio by town\n",
            "        - B        1000(Bk - 0.63)^2 where Bk is the proportion of black people by town\n",
            "        - LSTAT    % lower status of the population\n",
            "        - MEDV     Median value of owner-occupied homes in $1000's\n",
            "\n",
            "    :Missing Attribute Values: None\n",
            "\n",
            "    :Creator: Harrison, D. and Rubinfeld, D.L.\n",
            "\n",
            "This is a copy of UCI ML housing dataset.\n",
            "https://archive.ics.uci.edu/ml/machine-learning-databases/housing/\n",
            "\n",
            "\n",
            "This dataset was taken from the StatLib library which is maintained at Carnegie Mellon University.\n",
            "\n",
            "The Boston house-price data of Harrison, D. and Rubinfeld, D.L. 'Hedonic\n",
            "prices and the demand for clean air', J. Environ. Economics & Management,\n",
            "vol.5, 81-102, 1978.   Used in Belsley, Kuh & Welsch, 'Regression diagnostics\n",
            "...', Wiley, 1980.   N.B. Various transformations are used in the table on\n",
            "pages 244-261 of the latter.\n",
            "\n",
            "The Boston house-price data has been used in many machine learning papers that address regression\n",
            "problems.   \n",
            "     \n",
            ".. topic:: References\n",
            "\n",
            "   - Belsley, Kuh & Welsch, 'Regression diagnostics: Identifying Influential Data and Sources of Collinearity', Wiley, 1980. 244-261.\n",
            "   - Quinlan,R. (1993). Combining Instance-Based and Model-Based Learning. In Proceedings on the Tenth International Conference of Machine Learning, 236-243, University of Massachusetts, Amherst. Morgan Kaufmann.\n",
            "\n"
          ]
        },
        {
          "output_type": "stream",
          "name": "stderr",
          "text": [
            "/usr/local/lib/python3.7/dist-packages/sklearn/utils/deprecation.py:87: FutureWarning: Function load_boston is deprecated; `load_boston` is deprecated in 1.0 and will be removed in 1.2.\n",
            "\n",
            "    The Boston housing prices dataset has an ethical problem. You can refer to\n",
            "    the documentation of this function for further details.\n",
            "\n",
            "    The scikit-learn maintainers therefore strongly discourage the use of this\n",
            "    dataset unless the purpose of the code is to study and educate about\n",
            "    ethical issues in data science and machine learning.\n",
            "\n",
            "    In this special case, you can fetch the dataset from the original\n",
            "    source::\n",
            "\n",
            "        import pandas as pd\n",
            "        import numpy as np\n",
            "\n",
            "\n",
            "        data_url = \"http://lib.stat.cmu.edu/datasets/boston\"\n",
            "        raw_df = pd.read_csv(data_url, sep=\"\\s+\", skiprows=22, header=None)\n",
            "        data = np.hstack([raw_df.values[::2, :], raw_df.values[1::2, :2]])\n",
            "        target = raw_df.values[1::2, 2]\n",
            "\n",
            "    Alternative datasets include the California housing dataset (i.e.\n",
            "    :func:`~sklearn.datasets.fetch_california_housing`) and the Ames housing\n",
            "    dataset. You can load the datasets as follows::\n",
            "\n",
            "        from sklearn.datasets import fetch_california_housing\n",
            "        housing = fetch_california_housing()\n",
            "\n",
            "    for the California housing dataset and::\n",
            "\n",
            "        from sklearn.datasets import fetch_openml\n",
            "        housing = fetch_openml(name=\"house_prices\", as_frame=True)\n",
            "\n",
            "    for the Ames housing dataset.\n",
            "    \n",
            "  warnings.warn(msg, category=FutureWarning)\n"
          ]
        }
      ]
    },
    {
      "cell_type": "code",
      "source": [
        "data[0,:]"
      ],
      "metadata": {
        "colab": {
          "base_uri": "https://localhost:8080/"
        },
        "id": "5Tbx6Kps7X_L",
        "outputId": "dbf8e44e-4fbd-48d9-d700-05c700df0650"
      },
      "execution_count": null,
      "outputs": [
        {
          "output_type": "execute_result",
          "data": {
            "text/plain": [
              "array([6.320e-03, 1.800e+01, 2.310e+00, 0.000e+00, 5.380e-01, 6.575e+00,\n",
              "       6.520e+01, 4.090e+00, 1.000e+00, 2.960e+02, 1.530e+01, 3.969e+02,\n",
              "       4.980e+00])"
            ]
          },
          "metadata": {},
          "execution_count": 3
        }
      ]
    },
    {
      "cell_type": "code",
      "source": [
        "# variable definition\n",
        "X = data[:, 1:]\n",
        "y = data[:, 0]\n",
        "\n",
        "# train, valid, test split / 6:2:2\n",
        "X_train, X_test, y_train, y_test = train_test_split(X, y, test_size=0.2, random_state=1)\n",
        "X_train, X_val,  y_train, y_val  = train_test_split(X_train, y_train, test_size=0.25, random_state=1) \n",
        "\n",
        "# model fitting\n",
        "model = Ridge(alpha= 0.1)\n",
        "model.fit(X_train,y_train)\n",
        "y_pred = model.predict(X_val)"
      ],
      "metadata": {
        "id": "_3rrgIPymoCg"
      },
      "execution_count": null,
      "outputs": []
    },
    {
      "cell_type": "markdown",
      "source": [
        "* y_pred는 $\\alpha = 0.1$ 로 적합한 ridge regression의 \n",
        "최적해 $\\hat \\beta$로 도출된 모형 $\\hat f(x) = x^\\top \\hat \\beta$ 를 이용해 validatation 데이터에 대해서 예측한 결과다. \n",
        "* $\\alpha = 0$ 일때 최적해 $\\hat \\beta$는 OLS로 주어지며 우리는 다른 모형을  얻게 되고, 같은 데이터에 대해서도 다른 예측결과를 얻게 된다. \n",
        "* 이 $\\alpha$가 ridge regression에서 복잡도를 결정해주는 튜닝 파라메터다."
      ],
      "metadata": {
        "id": "nIaaOMAkoE6j"
      }
    },
    {
      "cell_type": "code",
      "source": [
        "y_pred[4]"
      ],
      "metadata": {
        "colab": {
          "base_uri": "https://localhost:8080/"
        },
        "id": "aihQjDRjnmR0",
        "outputId": "8cd11d8b-8747-450e-ed08-397adddeec27"
      },
      "execution_count": null,
      "outputs": [
        {
          "output_type": "execute_result",
          "data": {
            "text/plain": [
              "1.8642773813707976"
            ]
          },
          "metadata": {},
          "execution_count": 5
        }
      ]
    },
    {
      "cell_type": "markdown",
      "source": [
        "ridge 회귀모형의 복잡도를 조절하기 위해서 여러개의 alpha값을 고려해본다. 각 모형마다 validation error를 저장해본다. "
      ],
      "metadata": {
        "id": "zrhyxEsXpDyC"
      }
    },
    {
      "cell_type": "code",
      "source": [
        "# tuning parameter list\n",
        "alpha_list = np.arange(1, 10, 0.1)\n",
        "mse = []\n",
        "\n",
        "# model fitting \n",
        "for alp in alpha_list:\n",
        "    model = Ridge(alpha=alp)\n",
        "    model.fit(X_train,y_train)\n",
        "    \n",
        "    # prediction\n",
        "    y_pred = model.predict(X_val)\n",
        "    \n",
        "    # mse calculate\n",
        "    mse.append(np.square(np.subtract(y_pred, y_val)).mean())\n"
      ],
      "metadata": {
        "id": "6o2wWROanZ-o"
      },
      "execution_count": null,
      "outputs": []
    },
    {
      "cell_type": "markdown",
      "source": [
        "Validation error를 그려본다. "
      ],
      "metadata": {
        "id": "vO29iuHXqI1n"
      }
    },
    {
      "cell_type": "code",
      "source": [
        "plt.plot(mse)"
      ],
      "metadata": {
        "colab": {
          "base_uri": "https://localhost:8080/",
          "height": 284
        },
        "id": "nPauaRkbpcW7",
        "outputId": "50c3bea1-eaac-43aa-b3d4-656aa2be0213"
      },
      "execution_count": null,
      "outputs": [
        {
          "output_type": "execute_result",
          "data": {
            "text/plain": [
              "[<matplotlib.lines.Line2D at 0x7f601911b850>]"
            ]
          },
          "metadata": {},
          "execution_count": 7
        },
        {
          "output_type": "display_data",
          "data": {
            "image/png": "[encoded data removed]",
            "text/plain": [
              "<Figure size 432x288 with 1 Axes>"
            ]
          },
          "metadata": {
            "needs_background": "light"
          }
        }
      ]
    },
    {
      "cell_type": "code",
      "source": [
        "# model selection\n",
        "alp_sel = alpha_list[np.argmin(mse)]\n",
        "\n",
        "# Evaluating selection model using test data\n",
        "# model fitting using selected alpha\n",
        "model = Ridge(alpha=alp_sel)\n",
        "model.fit(X_train,y_train)\n",
        "\n",
        "# prediction of test y\n",
        "y_pred = model.predict(X_test)\n",
        "\n",
        "# calculate mse using test data\n",
        "mse = np.square(np.subtract(y_pred, y_test)).mean()\n",
        "print(mse)\n"
      ],
      "metadata": {
        "colab": {
          "base_uri": "https://localhost:8080/"
        },
        "id": "I3qC2khZpZa6",
        "outputId": "2802e284-981c-49bc-911f-c06bc0eaffcd"
      },
      "execution_count": null,
      "outputs": [
        {
          "output_type": "stream",
          "name": "stdout",
          "text": [
            "15.402451521042973\n"
          ]
        }
      ]
    },
    {
      "cell_type": "markdown",
      "source": [
        "# Logistic Regression\n",
        "\n",
        "$L(\\beta_0, \\beta) = - \\sum_{i=1}^n y_i (\\beta_0+ x_i^\\top \\beta) + \\log(1+\\exp(\\beta_0 + x_i^\\top \\beta))$  \n",
        "\n",
        "(단, $y_i \\in \\{0,1\\}$)\n",
        "\n",
        "만약 $\\tilde y_i = 2y_i -1 \\in \\{-1,1\\}$  로 놓는다면\n",
        "\n",
        "$(\\beta_0, \\beta) =  \\sum_{i=1}^n \\log(1+ \\exp(-\\tilde y_i (\\beta_0 + x_i^\\top \\beta))$ 로 쓰여짐 (같은 식)"
      ],
      "metadata": {
        "id": "0Y9wukkkqdqb"
      }
    },
    {
      "cell_type": "code",
      "source": [
        "#%% LogisticRegression\n",
        "import numpy as np\n",
        "import seaborn as sns\n",
        "from sklearn.linear_model import LogisticRegression \n",
        "from sklearn.model_selection import train_test_split\n",
        "\n",
        "data = sns.load_dataset(\"titanic\")\n",
        "data = data.dropna()\n",
        "\n",
        "# variable definition\n",
        "feature_names = [\"pclass\", \"age\", \"sibsp\", \"fare\"]\n",
        "X = data[feature_names]\n",
        "y = data[\"survived\"]\n"
      ],
      "metadata": {
        "id": "AKljvEKMqSgW"
      },
      "execution_count": null,
      "outputs": []
    },
    {
      "cell_type": "code",
      "source": [
        "y"
      ],
      "metadata": {
        "colab": {
          "base_uri": "https://localhost:8080/"
        },
        "id": "8DvHleZvraf7",
        "outputId": "704b1d33-cfe0-4ba5-d6a9-57a32736509e"
      },
      "execution_count": null,
      "outputs": [
        {
          "output_type": "execute_result",
          "data": {
            "text/plain": [
              "1      1\n",
              "3      1\n",
              "6      0\n",
              "10     1\n",
              "11     1\n",
              "      ..\n",
              "871    1\n",
              "872    0\n",
              "879    1\n",
              "887    1\n",
              "889    1\n",
              "Name: survived, Length: 182, dtype: int64"
            ]
          },
          "metadata": {},
          "execution_count": 10
        }
      ]
    },
    {
      "cell_type": "code",
      "source": [
        "\n",
        "# train, valid, test split / 6:2:2\n",
        "X_train, X_test, y_train, y_test = train_test_split(X, y,\n",
        "                                                    test_size=0.2,\n",
        "                                                    random_state=1)\n",
        "\n",
        "X_train, X_val,  y_train, y_val  = train_test_split(X_train,\n",
        "                                                    y_train,\n",
        "                                                    test_size=0.25,\n",
        "                                                    random_state=1) \n"
      ],
      "metadata": {
        "id": "ABS5JB0WrYoZ"
      },
      "execution_count": null,
      "outputs": []
    },
    {
      "cell_type": "code",
      "source": [
        "# logitstic regression model\n",
        "model_logit = LogisticRegression()\n",
        "\n",
        "# using feature \"pclass\", \"age\", \"sibsp\"\n",
        "model_logit.fit(X_train, y_train)"
      ],
      "metadata": {
        "colab": {
          "base_uri": "https://localhost:8080/"
        },
        "id": "05dGyfGN8OYZ",
        "outputId": "0dd75280-3a7c-47cb-da8b-4d79f3d7cdd4"
      },
      "execution_count": null,
      "outputs": [
        {
          "output_type": "execute_result",
          "data": {
            "text/plain": [
              "LogisticRegression()"
            ]
          },
          "metadata": {},
          "execution_count": 12
        }
      ]
    },
    {
      "cell_type": "code",
      "source": [
        "# Return the mean accuracy on the given test data and labels.\n",
        "acc_0 = model_logit.score(X_train, y_train)\n",
        "acc_0"
      ],
      "metadata": {
        "colab": {
          "base_uri": "https://localhost:8080/"
        },
        "id": "wAU1nDCi9AAT",
        "outputId": "d1f8fe88-9ac8-4fd5-9583-74c46df96151"
      },
      "execution_count": null,
      "outputs": [
        {
          "output_type": "execute_result",
          "data": {
            "text/plain": [
              "0.7037037037037037"
            ]
          },
          "metadata": {},
          "execution_count": 13
        }
      ]
    },
    {
      "cell_type": "code",
      "source": [
        "acc_1 = model_logit.score(X_val, y_val)\n",
        "acc_1"
      ],
      "metadata": {
        "colab": {
          "base_uri": "https://localhost:8080/"
        },
        "id": "e8RxiKdN8av4",
        "outputId": "5e4cbfb0-cc99-46ec-cb7d-e6a1ecb00ed6"
      },
      "execution_count": null,
      "outputs": [
        {
          "output_type": "execute_result",
          "data": {
            "text/plain": [
              "0.8108108108108109"
            ]
          },
          "metadata": {},
          "execution_count": 14
        }
      ]
    },
    {
      "cell_type": "code",
      "source": [
        "# using feature \"pclass\", \"age\", \"sibsp\", \"fare\"\n",
        "model_logit.fit(X_train[feature_names[:3]], y_train)\n",
        "acc_2 = model_logit.score(X_val[feature_names[:3]], y_val)\n",
        "acc_2"
      ],
      "metadata": {
        "colab": {
          "base_uri": "https://localhost:8080/"
        },
        "id": "RJlwW8n_8gdA",
        "outputId": "de3f5d8d-88ac-4361-c830-c74d0171b90f"
      },
      "execution_count": null,
      "outputs": [
        {
          "output_type": "execute_result",
          "data": {
            "text/plain": [
              "0.7837837837837838"
            ]
          },
          "metadata": {},
          "execution_count": 15
        }
      ]
    },
    {
      "cell_type": "code",
      "source": [
        "select_model = np.argmax([acc_1, acc_2])\n",
        "# Evaluating selection model using test data\n",
        "# model fitting using select_model\n",
        "model_logit = LogisticRegression()\n",
        "model_logit.fit(X_test[feature_names[:(4-select_model)]], y_test)\n",
        "acc = model_logit.score(X_test, y_test)\n",
        "print(acc)"
      ],
      "metadata": {
        "colab": {
          "base_uri": "https://localhost:8080/"
        },
        "id": "f7oeV2nz8q0v",
        "outputId": "71751db1-4b17-4b04-ccf4-088cee38132d"
      },
      "execution_count": null,
      "outputs": [
        {
          "output_type": "stream",
          "name": "stdout",
          "text": [
            "0.6756756756756757\n"
          ]
        }
      ]
    },
    {
      "cell_type": "code",
      "source": [
        "# GMM\n",
        "# module import\n",
        "from sklearn.datasets import load_iris\n",
        "from sklearn.cluster import KMeans\n",
        "from sklearn.mixture import GaussianMixture\n",
        "from sklearn.metrics import rand_score\n",
        "import pandas as pd\n",
        "\n",
        "# load iris data\n",
        "iris_data = load_iris()\n",
        "irisDF = pd.DataFrame(data=iris_data.data, columns=['sepal_length','sepal_width','petal_length','petal_width'])\n",
        "print(irisDF)\n"
      ],
      "metadata": {
        "colab": {
          "base_uri": "https://localhost:8080/"
        },
        "id": "jIXCH3eI94Ah",
        "outputId": "5cd21f53-21d1-48c2-d27b-f88092f3cb56"
      },
      "execution_count": null,
      "outputs": [
        {
          "output_type": "stream",
          "name": "stdout",
          "text": [
            "     sepal_length  sepal_width  petal_length  petal_width\n",
            "0             5.1          3.5           1.4          0.2\n",
            "1             4.9          3.0           1.4          0.2\n",
            "2             4.7          3.2           1.3          0.2\n",
            "3             4.6          3.1           1.5          0.2\n",
            "4             5.0          3.6           1.4          0.2\n",
            "..            ...          ...           ...          ...\n",
            "145           6.7          3.0           5.2          2.3\n",
            "146           6.3          2.5           5.0          1.9\n",
            "147           6.5          3.0           5.2          2.0\n",
            "148           6.2          3.4           5.4          2.3\n",
            "149           5.9          3.0           5.1          1.8\n",
            "\n",
            "[150 rows x 4 columns]\n"
          ]
        }
      ]
    },
    {
      "cell_type": "code",
      "source": [
        "# GMM fitting\n",
        "gmm = GaussianMixture(n_components=3, random_state=0).fit(iris_data.data)\n",
        "gmm_cluster_labels = gmm.predict(iris_data.data)\n",
        "print(gmm_cluster_labels)"
      ],
      "metadata": {
        "colab": {
          "base_uri": "https://localhost:8080/"
        },
        "id": "wwEc1Q6h98HR",
        "outputId": "3d3dcd9b-e67c-479e-a5ed-ba86053e1250"
      },
      "execution_count": null,
      "outputs": [
        {
          "output_type": "stream",
          "name": "stdout",
          "text": [
            "[0 0 0 0 0 0 0 0 0 0 0 0 0 0 0 0 0 0 0 0 0 0 0 0 0 0 0 0 0 0 0 0 0 0 0 0 0\n",
            " 0 0 0 0 0 0 0 0 0 0 0 0 0 2 2 2 2 2 2 2 2 2 2 2 2 2 2 2 2 2 2 1 2 1 2 1 2\n",
            " 2 2 2 1 2 2 2 2 2 1 2 2 2 2 2 2 2 2 2 2 2 2 2 2 2 2 1 1 1 1 1 1 1 1 1 1 1\n",
            " 1 1 1 1 1 1 1 1 1 1 1 1 1 1 1 1 1 1 1 1 1 1 1 1 1 1 1 1 1 1 1 1 1 1 1 1 1\n",
            " 1 1]\n"
          ]
        }
      ]
    },
    {
      "cell_type": "code",
      "source": [
        "rand_score(iris_data.target, gmm_cluster_labels)"
      ],
      "metadata": {
        "colab": {
          "base_uri": "https://localhost:8080/"
        },
        "id": "uW9JxmxI-sLE",
        "outputId": "bbaa7fa4-0a9f-45dc-c814-b684d1e0c395"
      },
      "execution_count": null,
      "outputs": [
        {
          "output_type": "execute_result",
          "data": {
            "text/plain": [
              "0.9574944071588367"
            ]
          },
          "metadata": {},
          "execution_count": 19
        }
      ]
    },
    {
      "cell_type": "code",
      "source": [
        "# permutation invariant!\n",
        "irisDF['gmm_cluster'] = gmm_cluster_labels\n",
        "irisDF['target'] = iris_data.target\n",
        "print(irisDF)"
      ],
      "metadata": {
        "colab": {
          "base_uri": "https://localhost:8080/"
        },
        "id": "CWu4aIMY9_jZ",
        "outputId": "0bb31c8a-3728-421d-a13d-468da9c57d04"
      },
      "execution_count": null,
      "outputs": [
        {
          "output_type": "stream",
          "name": "stdout",
          "text": [
            "     sepal_length  sepal_width  petal_length  petal_width  gmm_cluster  target\n",
            "0             5.1          3.5           1.4          0.2            0       0\n",
            "1             4.9          3.0           1.4          0.2            0       0\n",
            "2             4.7          3.2           1.3          0.2            0       0\n",
            "3             4.6          3.1           1.5          0.2            0       0\n",
            "4             5.0          3.6           1.4          0.2            0       0\n",
            "..            ...          ...           ...          ...          ...     ...\n",
            "145           6.7          3.0           5.2          2.3            1       2\n",
            "146           6.3          2.5           5.0          1.9            1       2\n",
            "147           6.5          3.0           5.2          2.0            1       2\n",
            "148           6.2          3.4           5.4          2.3            1       2\n",
            "149           5.9          3.0           5.1          1.8            1       2\n",
            "\n",
            "[150 rows x 6 columns]\n"
          ]
        }
      ]
    },
    {
      "cell_type": "code",
      "source": [
        "#%% K-means Clustering\n",
        "# K-means Clustering fitting\n",
        "kmeans = KMeans(n_clusters=4, init='k-means++', max_iter=300, random_state=0).fit(iris_data.data)\n",
        "kmeans_cluster_labels = kmeans.predict(iris_data.data)\n",
        "kmeans_cluster_labels"
      ],
      "metadata": {
        "colab": {
          "base_uri": "https://localhost:8080/"
        },
        "id": "ldcdbeEu-F14",
        "outputId": "b88cbb2f-4e4b-40f0-e001-93313ee99eee"
      },
      "execution_count": null,
      "outputs": [
        {
          "output_type": "execute_result",
          "data": {
            "text/plain": [
              "array([1, 1, 1, 1, 1, 1, 1, 1, 1, 1, 1, 1, 1, 1, 1, 1, 1, 1, 1, 1, 1, 1,\n",
              "       1, 1, 1, 1, 1, 1, 1, 1, 1, 1, 1, 1, 1, 1, 1, 1, 1, 1, 1, 1, 1, 1,\n",
              "       1, 1, 1, 1, 1, 1, 3, 3, 3, 0, 3, 0, 3, 0, 3, 0, 0, 0, 0, 3, 0, 3,\n",
              "       0, 0, 3, 0, 3, 0, 3, 3, 3, 3, 3, 3, 3, 0, 0, 0, 0, 3, 0, 3, 3, 3,\n",
              "       0, 0, 0, 3, 0, 0, 0, 0, 0, 3, 0, 0, 2, 3, 2, 2, 2, 2, 0, 2, 2, 2,\n",
              "       3, 3, 2, 3, 3, 2, 2, 2, 2, 3, 2, 3, 2, 3, 2, 2, 3, 3, 2, 2, 2, 2,\n",
              "       2, 3, 3, 2, 2, 2, 3, 2, 2, 2, 3, 2, 2, 2, 3, 3, 2, 3], dtype=int32)"
            ]
          },
          "metadata": {},
          "execution_count": 20
        }
      ]
    },
    {
      "cell_type": "code",
      "source": [
        "# MDS\n",
        "# import module\n",
        "from sklearn.datasets import load_digits\n",
        "from sklearn.manifold import MDS\n",
        "# data load\n",
        "X, _ = load_digits(return_X_y=True)\n",
        "X.shape\n",
        "\n",
        "# MDS\n",
        "embedding = MDS(n_components=2)\n",
        "X_transformed = embedding.fit_transform(X[:100])\n",
        "X_transformed[0,:]"
      ],
      "metadata": {
        "colab": {
          "base_uri": "https://localhost:8080/"
        },
        "id": "ElDTUM7y_IN-",
        "outputId": "c7164364-3769-4ad3-da60-16cfc8278507"
      },
      "execution_count": null,
      "outputs": [
        {
          "output_type": "execute_result",
          "data": {
            "text/plain": [
              "array([-1.98208595, 30.05076071])"
            ]
          },
          "metadata": {},
          "execution_count": 21
        }
      ]
    },
    {
      "cell_type": "code",
      "source": [
        "X[0,:]"
      ],
      "metadata": {
        "colab": {
          "base_uri": "https://localhost:8080/"
        },
        "id": "PHGAH6n-_i4T",
        "outputId": "201d133b-38ca-4fde-876b-368a8b4f9f56"
      },
      "execution_count": null,
      "outputs": [
        {
          "output_type": "execute_result",
          "data": {
            "text/plain": [
              "array([ 0.,  0.,  5., 13.,  9.,  1.,  0.,  0.,  0.,  0., 13., 15., 10.,\n",
              "       15.,  5.,  0.,  0.,  3., 15.,  2.,  0., 11.,  8.,  0.,  0.,  4.,\n",
              "       12.,  0.,  0.,  8.,  8.,  0.,  0.,  5.,  8.,  0.,  0.,  9.,  8.,\n",
              "        0.,  0.,  4., 11.,  0.,  1., 12.,  7.,  0.,  0.,  2., 14.,  5.,\n",
              "       10., 12.,  0.,  0.,  0.,  0.,  6., 13., 10.,  0.,  0.,  0.])"
            ]
          },
          "metadata": {},
          "execution_count": 30
        }
      ]
    },
    {
      "cell_type": "code",
      "source": [
        "#%% PCA\n",
        "# import module\n",
        "import numpy as np\n",
        "from sklearn.decomposition import PCA\n",
        "\n",
        "# data load\n",
        "X = np.array([[-1, -1], [-2, -1], [-3, -2], [1, 1], [2, 1], [3, 2]])\n",
        "\n",
        "# PCA\n",
        "pca = PCA(n_components=2)\n",
        "pca.fit(X)\n",
        "PCA(n_components=2)\n",
        "print(pca.explained_variance_ratio_)\n",
        "print(pca.singular_values_)"
      ],
      "metadata": {
        "colab": {
          "base_uri": "https://localhost:8080/"
        },
        "id": "QqJXAN43_ZyE",
        "outputId": "22eb8548-2cb3-48f5-83ac-58cf7d9a3d8a"
      },
      "execution_count": null,
      "outputs": [
        {
          "output_type": "stream",
          "name": "stdout",
          "text": [
            "[0.99244289 0.00755711]\n",
            "[6.30061232 0.54980396]\n"
          ]
        }
      ]
    }
  ]
}